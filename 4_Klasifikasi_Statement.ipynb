{
  "cells": [
    {
      "cell_type": "markdown",
      "metadata": {
        "id": "view-in-github",
        "colab_type": "text"
      },
      "source": [
        "<a href=\"https://colab.research.google.com/github/hpputro/ml4sc/blob/main/4_Klasifikasi_Statement.ipynb\" target=\"_parent\"><img src=\"https://colab.research.google.com/assets/colab-badge.svg\" alt=\"Open In Colab\"/></a>"
      ]
    },
    {
      "cell_type": "markdown",
      "source": [
        "# Baca Token Stream"
      ],
      "metadata": {
        "id": "WOck2beF6iO-"
      }
    },
    {
      "cell_type": "code",
      "execution_count": null,
      "metadata": {
        "colab": {
          "base_uri": "https://localhost:8080/"
        },
        "id": "dGTMtpE4Rw8e",
        "outputId": "e96c5e17-a21a-4a0f-8836-cb3b59b8388e"
      },
      "outputs": [
        {
          "output_type": "stream",
          "name": "stdout",
          "text": [
            "Drive already mounted at /drive; to attempt to forcibly remount, call drive.mount(\"/drive\", force_remount=True).\n",
            "0     VARIABLE EQ SCIENTIFIC_NUMBER TIMES SCIENTIFI...\n",
            "1     VARIABLE VARIABLE VARIABLE LPAREN VARIABLE VA...\n",
            "2     DIV DIV VARIABLE VARIABLE VARIABLE VARIABLE V...\n",
            "3               VARIABLE VARIABLE EQ SCIENTIFIC_NUMBER\n",
            "4               VARIABLE VARIABLE EQ SCIENTIFIC_NUMBER\n",
            "Name: source, dtype: object\n",
            "0     expression\n",
            "1    declaration\n",
            "2        comment\n",
            "3    declaration\n",
            "4    declaration\n",
            "Name: label, dtype: object\n"
          ]
        }
      ],
      "source": [
        "import sys\n",
        "import pandas as pd\n",
        "from google.colab import drive\n",
        "\n",
        "drive.mount('/drive')\n",
        "df = pd.read_csv('/drive/My Drive/Colab Notebooks/SourceCode/tokenstream2.csv')\n",
        "X = df['source']\n",
        "y = df['label']\n",
        "print(X.head())\n",
        "print(y.head())"
      ]
    },
    {
      "cell_type": "markdown",
      "source": [
        "# Hitung TF IDF"
      ],
      "metadata": {
        "id": "6_ZPF5vV2WnF"
      }
    },
    {
      "cell_type": "code",
      "source": [
        "from sklearn.feature_extraction.text import CountVectorizer\n",
        "from sklearn.feature_extraction.text import TfidfTransformer\n",
        "\n",
        "count_vect = CountVectorizer()\n",
        "X_counts = count_vect.fit_transform(df['source'])\n",
        "tfidf_transformer = TfidfTransformer()\n",
        "X_tfidf = tfidf_transformer.fit_transform(X_counts)\n",
        "print(X_tfidf)"
      ],
      "metadata": {
        "colab": {
          "base_uri": "https://localhost:8080/"
        },
        "id": "_h8np_OtZvS6",
        "outputId": "5ea12065-cb6a-4a32-c63d-69eb9ba1a25e"
      },
      "execution_count": null,
      "outputs": [
        {
          "output_type": "stream",
          "name": "stdout",
          "text": [
            "  (0, 10)\t0.1423281276855254\n",
            "  (0, 9)\t0.48071131576144577\n",
            "  (0, 8)\t0.797641628559877\n",
            "  (0, 1)\t0.3353016065526375\n",
            "  (1, 10)\t0.9087711396736358\n",
            "  (1, 7)\t0.29507203840442203\n",
            "  (1, 2)\t0.29507203840442203\n",
            "  (2, 10)\t0.6572636295029801\n",
            "  (2, 0)\t0.7536607468434118\n",
            "  (3, 10)\t0.4794378367086556\n",
            "  (3, 8)\t0.6717217163680992\n",
            "  (3, 1)\t0.5647382548505274\n",
            "  (4, 10)\t0.4794378367086556\n",
            "  (4, 8)\t0.6717217163680992\n",
            "  (4, 1)\t0.5647382548505274\n",
            "  (5, 10)\t1.0\n",
            "  (6, 10)\t0.812817694200482\n",
            "  (6, 0)\t0.5825181507855456\n",
            "  (7, 10)\t0.6471861817537802\n",
            "  (7, 1)\t0.7623319789612417\n",
            "  (8, 10)\t0.463622721859743\n",
            "  (8, 0)\t0.8860327148448658\n",
            "  (9, 10)\t0.5209820923310365\n",
            "  (9, 7)\t0.09397748554500836\n",
            "  (9, 6)\t0.23052786561260744\n",
            "  :\t:\n",
            "  (88, 8)\t0.47592127632423786\n",
            "  (88, 7)\t0.2757347966119527\n",
            "  (88, 4)\t0.7113738802320405\n",
            "  (88, 2)\t0.2757347966119527\n",
            "  (89, 10)\t0.5465335477275783\n",
            "  (89, 7)\t0.295759773728239\n",
            "  (89, 6)\t0.7255021665693002\n",
            "  (89, 2)\t0.295759773728239\n",
            "  (90, 10)\t1.0\n",
            "  (91, 10)\t0.6805236931518441\n",
            "  (91, 7)\t0.22096158708663882\n",
            "  (91, 6)\t0.54202134434701\n",
            "  (91, 5)\t0.3813821172990969\n",
            "  (91, 2)\t0.22096158708663882\n",
            "  (92, 10)\t0.17566160890702154\n",
            "  (92, 5)\t0.9844506077788752\n",
            "  (93, 10)\t0.45283769211181424\n",
            "  (93, 9)\t0.6797569542415891\n",
            "  (93, 0)\t0.5769475780025806\n",
            "  (94, 10)\t0.5465335477275783\n",
            "  (94, 7)\t0.295759773728239\n",
            "  (94, 6)\t0.7255021665693002\n",
            "  (94, 2)\t0.295759773728239\n",
            "  (95, 10)\t0.17566160890702154\n",
            "  (95, 5)\t0.9844506077788752\n"
          ]
        }
      ]
    },
    {
      "cell_type": "markdown",
      "source": [
        "# Klasifikasi & Hitung Performa"
      ],
      "metadata": {
        "id": "ww0USOZg2hNO"
      }
    },
    {
      "cell_type": "code",
      "source": [
        "from sklearn.naive_bayes import MultinomialNB\n",
        "from sklearn.model_selection import train_test_split\n",
        "\n",
        "X_train, X_test, y_train, y_test = train_test_split(X_tfidf, y,test_size=0.2,random_state = 0)\n",
        "model = MultinomialNB()\n",
        "model.fit(X_train, y_train)\n",
        "print(model.predict(count_vect.transform([\"variable plus variable\"])))\n",
        "acc = model.score(X_test, y_test)\n",
        "print(acc)"
      ],
      "metadata": {
        "id": "sRhHxIjLcbeE"
      },
      "execution_count": null,
      "outputs": []
    },
    {
      "cell_type": "markdown",
      "source": [
        "## Naive Bayes"
      ],
      "metadata": {
        "id": "FdWeWs962bDP"
      }
    },
    {
      "cell_type": "code",
      "source": [
        "from sklearn.naive_bayes import MultinomialNB\n",
        "model = MultinomialNB()\n",
        "\n",
        "import time\n",
        "from sklearn.model_selection import KFold\n",
        "kfold = KFold(n_splits=4, random_state=0, shuffle=True)\n",
        "\n",
        "acc = []\n",
        "tim = []\n",
        "for train_ndx, test_ndx in kfold.split(X_tfidf):\n",
        "  start = time.time()\n",
        "  train_X, train_y, test_X, test_y = X_tfidf[train_ndx], y[train_ndx], X_tfidf[test_ndx], y[test_ndx]\n",
        "  model.fit(train_X, train_y)\n",
        "  acc.append(model.score(test_X, test_y))\n",
        "  end = time.time()\n",
        "  tim.append(end - start)\n",
        "\n",
        "print(sum(acc)/len(acc))\n",
        "print(sum(tim)/len(tim))"
      ],
      "metadata": {
        "colab": {
          "base_uri": "https://localhost:8080/"
        },
        "id": "0EgXUOwQpr0a",
        "outputId": "32ae6efa-36d8-4b88-fc5c-13d34536f189"
      },
      "execution_count": null,
      "outputs": [
        {
          "output_type": "stream",
          "name": "stdout",
          "text": [
            "0.6041666666666667\n",
            "0.009939968585968018\n"
          ]
        }
      ]
    },
    {
      "cell_type": "markdown",
      "source": [
        "## SVM"
      ],
      "metadata": {
        "id": "AUxEw80V2o-L"
      }
    },
    {
      "cell_type": "code",
      "source": [
        "from sklearn import svm\n",
        "model = svm.SVC(kernel='linear')\n",
        "\n",
        "import time\n",
        "from sklearn.model_selection import KFold\n",
        "kfold = KFold(n_splits=4, random_state=0, shuffle=True)\n",
        "\n",
        "acc = []\n",
        "tim = []\n",
        "for train_ndx, test_ndx in kfold.split(X_tfidf):\n",
        "  start = time.time()\n",
        "  train_X, train_y, test_X, test_y = X_tfidf[train_ndx], y[train_ndx], X_tfidf[test_ndx], y[test_ndx]\n",
        "  model.fit(train_X, train_y)\n",
        "  acc.append(model.score(test_X, test_y))\n",
        "  end = time.time()\n",
        "  tim.append(end - start)\n",
        "\n",
        "print(sum(acc)/len(acc))\n",
        "print(sum(tim)/len(tim))"
      ],
      "metadata": {
        "colab": {
          "base_uri": "https://localhost:8080/"
        },
        "id": "GmXRlrH012vX",
        "outputId": "abca38bb-0f7f-497f-cb73-6be276156708"
      },
      "execution_count": null,
      "outputs": [
        {
          "output_type": "stream",
          "name": "stdout",
          "text": [
            "0.7708333333333333\n",
            "0.004104793071746826\n"
          ]
        }
      ]
    },
    {
      "cell_type": "markdown",
      "source": [
        "## Decision Tree"
      ],
      "metadata": {
        "id": "rsfF33Vk298D"
      }
    },
    {
      "cell_type": "code",
      "source": [
        "from sklearn import svm\n",
        "model = svm.SVC(kernel='linear')\n",
        "\n",
        "import time\n",
        "from sklearn.model_selection import KFold\n",
        "kfold = KFold(n_splits=4, random_state=0, shuffle=True)\n",
        "\n",
        "acc = []\n",
        "tim = []\n",
        "for train_ndx, test_ndx in kfold.split(X_tfidf):\n",
        "  start = time.time()\n",
        "  train_X, train_y, test_X, test_y = X_tfidf[train_ndx], y[train_ndx], X_tfidf[test_ndx], y[test_ndx]\n",
        "  model.fit(train_X, train_y)\n",
        "  acc.append(model.score(test_X, test_y))\n",
        "  end = time.time()\n",
        "  tim.append(end - start)\n",
        "\n",
        "print(sum(acc)/len(acc))\n",
        "print(sum(tim)/len(tim))"
      ],
      "metadata": {
        "id": "jyzVX9G-19AW"
      },
      "execution_count": null,
      "outputs": []
    }
  ],
  "metadata": {
    "colab": {
      "provenance": [],
      "toc_visible": true,
      "mount_file_id": "1_xXwbZwI8Xm4z_Glu9i9OOcoKC9zuyzr",
      "authorship_tag": "ABX9TyOBj9rPKiDmrjKDE1AEuSg0",
      "include_colab_link": true
    },
    "kernelspec": {
      "display_name": "Python 3",
      "name": "python3"
    },
    "language_info": {
      "name": "python"
    }
  },
  "nbformat": 4,
  "nbformat_minor": 0
}