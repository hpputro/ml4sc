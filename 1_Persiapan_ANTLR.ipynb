{
  "cells": [
    {
      "cell_type": "markdown",
      "metadata": {
        "id": "view-in-github",
        "colab_type": "text"
      },
      "source": [
        "<a href=\"https://colab.research.google.com/github/hpputro/ml4sc/blob/main/1_Persiapan_ANTLR.ipynb\" target=\"_parent\"><img src=\"https://colab.research.google.com/assets/colab-badge.svg\" alt=\"Open In Colab\"/></a>"
      ]
    },
    {
      "cell_type": "markdown",
      "source": [
        "# Persiapan\n",
        "Persiapan penggunaan ANTLR4 untuk memparsing source code"
      ],
      "metadata": {
        "id": "EVVUUsZ4cml_"
      }
    },
    {
      "cell_type": "markdown",
      "source": [
        "## Instalasi\n",
        "Kita instal paket tools ANTLR4 sebagai paket utama dan paket Runtime untuk ANTLR bisa digunakan di bahasa Python2. Setelah itu, instalasi bisa dicek dengan menu console `antlr4`.<br/>\n",
        "PPDLPY digunakan untuk mengolah struktur bahasa (DDL) dari bahasa Python. Perlu diinstal karena saat menjalankan source code ANTLR saja masih error."
      ],
      "metadata": {
        "id": "bilZrBuVczro"
      }
    },
    {
      "cell_type": "code",
      "execution_count": null,
      "metadata": {
        "colab": {
          "base_uri": "https://localhost:8080/"
        },
        "id": "YEzA-Q2nqlha",
        "outputId": "ab8920c2-2aae-4fa8-af68-88322b691d1f"
      },
      "outputs": [
        {
          "output_type": "stream",
          "name": "stdout",
          "text": [
            "Looking in indexes: https://pypi.org/simple, https://us-python.pkg.dev/colab-wheels/public/simple/\n",
            "Requirement already satisfied: antlr4-tools in /usr/local/lib/python3.8/dist-packages (0.2)\n",
            "Requirement already satisfied: install-jdk in /usr/local/lib/python3.8/dist-packages (from antlr4-tools) (0.3.0)\n",
            "Looking in indexes: https://pypi.org/simple, https://us-python.pkg.dev/colab-wheels/public/simple/\n",
            "Requirement already satisfied: antlr4-python2-runtime in /usr/local/lib/python3.8/dist-packages (4.12.0)\n",
            "Looking in indexes: https://pypi.org/simple, https://us-python.pkg.dev/colab-wheels/public/simple/\n",
            "Requirement already satisfied: pddlpy in /usr/local/lib/python3.8/dist-packages (0.3.3)\n",
            "Requirement already satisfied: antlr4-python3-runtime>=4.9.3 in /usr/local/lib/python3.8/dist-packages (from pddlpy) (4.12.0)\n"
          ]
        }
      ],
      "source": [
        "!pip install antlr4-tools\n",
        "!pip install antlr4-python2-runtime\n",
        "!pip install pddlpy"
      ]
    },
    {
      "cell_type": "code",
      "source": [
        "!antlr4"
      ],
      "metadata": {
        "colab": {
          "base_uri": "https://localhost:8080/"
        },
        "id": "ijYsUm0NR_g0",
        "outputId": "4676a5fe-5f9b-4b76-b6b6-6446cdf302bc"
      },
      "execution_count": null,
      "outputs": [
        {
          "output_type": "stream",
          "name": "stdout",
          "text": [
            "ANTLR Parser Generator  Version 4.11.1\n",
            " -o ___              specify output directory where all output is generated\n",
            " -lib ___            specify location of grammars, tokens files\n",
            " -atn                generate rule augmented transition network diagrams\n",
            " -encoding ___       specify grammar file encoding; e.g., euc-jp\n",
            " -message-format ___ specify output style for messages in antlr, gnu, vs2005\n",
            " -long-messages      show exception details when available for errors and warnings\n",
            " -listener           generate parse tree listener (default)\n",
            " -no-listener        don't generate parse tree listener\n",
            " -visitor            generate parse tree visitor\n",
            " -no-visitor         don't generate parse tree visitor (default)\n",
            " -package ___        specify a package/namespace for the generated code\n",
            " -depend             generate file dependencies\n",
            " -D<option>=value    set/override a grammar-level option\n",
            " -Werror             treat warnings as errors\n",
            " -XdbgST             launch StringTemplate visualizer on generated code\n",
            " -XdbgSTWait         wait for STViz to close before continuing\n",
            " -Xforce-atn         use the ATN simulator for all predictions\n",
            " -Xlog               dump lots of logging info to antlr-timestamp.log\n",
            " -Xexact-output-dir  all output goes into -o dir regardless of paths/package\n"
          ]
        }
      ]
    },
    {
      "cell_type": "markdown",
      "source": [
        "## Aktifkan Console\n",
        "\n",
        "1. Siapkan file grammar (`arithmetic.g4`)\n",
        "2. Nyalakan `Mount Drive` di panel kiri **Files**\n",
        "3. Invoke juga dengan mount drive lewat source code di bawah ini\n"
      ],
      "metadata": {
        "id": "cUf01ZgYiX59"
      }
    },
    {
      "cell_type": "code",
      "source": [
        "from google.colab import drive\n",
        "drive.mount('/drive')"
      ],
      "metadata": {
        "colab": {
          "base_uri": "https://localhost:8080/"
        },
        "id": "-hSn87KHx3H0",
        "outputId": "3b28eebc-d976-414d-b8ed-334fd962e037"
      },
      "execution_count": null,
      "outputs": [
        {
          "output_type": "stream",
          "name": "stdout",
          "text": [
            "Mounted at /drive\n"
          ]
        }
      ]
    },
    {
      "cell_type": "markdown",
      "source": [
        "## Generate Source Code ANTLR\n",
        "1. Siapkan posisi console di folder tempat file grammarnya\n",
        "2. Cek apakah posisinya sudah benar dengan `dir`\n",
        "3. Gunakan perintah console ANTLR4 yang akan mengenerate file berbahasa Python\n",
        "4. Terciptalah file Lexer, Listener, Parser dan file pendukungnya\n"
      ],
      "metadata": {
        "id": "enCwfI7rEcyz"
      }
    },
    {
      "cell_type": "code",
      "execution_count": null,
      "metadata": {
        "colab": {
          "base_uri": "https://localhost:8080/"
        },
        "id": "kLwY7xlLRJsv",
        "outputId": "44b30154-e4ea-44e9-d16c-0534030cd269"
      },
      "outputs": [
        {
          "output_type": "stream",
          "name": "stdout",
          "text": [
            "1\\ Persiapan\\ ANTLR.ipynb   arithmeticParser.py\n",
            "2\\ Pengolahan\\ Token.ipynb  arithmetic.tokens\n",
            "3\\ Pengolahan\\ Bobot.ipynb  sourceClassification.ipynb\n",
            "arithmetic.g4\t\t    sourcecode2.csv\n",
            "arithmetic.interp\t    sourcecode.csv\n",
            "arithmeticLexer.interp\t    test3.txt\n",
            "arithmeticLexer.py\t    test.txt\n",
            "arithmeticLexer.tokens\t    textClassification.ipynb\n",
            "arithmeticListener.py\t    tfidf.ipynb\n"
          ]
        }
      ],
      "source": [
        "#%cd \"drive\"\n",
        "#%cd \"MyDrive\"\n",
        "#%cd \"Colab Notebooks\"\n",
        "#%cd \"SourceCode\"\n",
        "!dir\n",
        "!antlr4 -Dlanguage=Python2 arithmetic.g4"
      ]
    },
    {
      "cell_type": "markdown",
      "source": [
        "## Persiapan Import File\n",
        "Copy file Lexer dan Parser ke root sehingga bisa di-import"
      ],
      "metadata": {
        "id": "_Wrt0846mj9o"
      }
    },
    {
      "cell_type": "code",
      "execution_count": null,
      "metadata": {
        "colab": {
          "base_uri": "https://localhost:8080/"
        },
        "id": "AipbipsNqei2",
        "outputId": "e63a6d36-6da5-43df-cca8-c9e0f9e03090"
      },
      "outputs": [
        {
          "output_type": "stream",
          "name": "stdout",
          "text": [
            "arithmeticLexer.py  arithmeticParser.py  drive\t__pycache__  sample_data\n"
          ]
        }
      ],
      "source": [
        "#%cd ..\n",
        "#%cd ..\n",
        "#%cd ..\n",
        "#%cd ..\n",
        "!dir\n",
        "!cp \"drive/MyDrive/Colab Notebooks/SourceCode/arithmeticLexer.py\" .\n",
        "!cp \"drive/MyDrive/Colab Notebooks/SourceCode/arithmeticParser.py\" ."
      ]
    },
    {
      "cell_type": "markdown",
      "source": [
        "# Source Code\n",
        "1. Siapkan file yang akan diparse (`test.txt`), sesuaikan dengan grammar.\n",
        "2. Proses file (source code) mulai dengan Lexer, TokenStream, Parser hingga mendapatkan Tree-nya\n",
        "3. Lakukan parsing dengan memanggil rule pertamanya (`expression`).<br/>\n",
        "Jika diperlukan, proses instalasi ANTLR mungkin perlu di-run lagi."
      ],
      "metadata": {
        "id": "2X2xZAQEZmrE"
      }
    },
    {
      "cell_type": "markdown",
      "source": [
        "Dalam hal ini, eksekusi berhasil dijalankan hingga Lexer dan mendapatkan list of Token (baris 8, 13). Namun setelah dipindah ke kelas CommonTokenStream, token di sana gagal diambil."
      ],
      "metadata": {
        "id": "5pFypwT9kTkt"
      }
    },
    {
      "cell_type": "code",
      "execution_count": null,
      "metadata": {
        "colab": {
          "base_uri": "https://localhost:8080/"
        },
        "id": "dGTMtpE4Rw8e",
        "outputId": "94d449c5-b282-4b9a-b14c-97ee4fc7188f"
      },
      "outputs": [
        {
          "output_type": "stream",
          "name": "stdout",
          "text": [
            "Lexer <arithmeticLexer.arithmeticLexer object at 0x7fb6cd6ba340>\n",
            "Tokens [<antlr4.Token.CommonToken object at 0x7fb6cd662cc0>, <antlr4.Token.CommonToken object at 0x7fb6cd6626c0>, <antlr4.Token.CommonToken object at 0x7fb6cd6625c0>]\n",
            "Stream <antlr4.CommonTokenStream.CommonTokenStream object at 0x7fb6d2bbb160>\n",
            "Parser <arithmeticParser.arithmeticParser object at 0x7fb6d2c81dc0>\n",
            "Tree []\n"
          ]
        }
      ],
      "source": [
        "import sys\n",
        "from antlr4 import *\n",
        "from arithmeticLexer import arithmeticLexer\n",
        "from arithmeticParser import arithmeticParser\n",
        " \n",
        "input_stream = FileStream(\"/drive/My Drive/Colab Notebooks/SourceCode/test.txt\")\n",
        "lexer = arithmeticLexer(input_stream)\n",
        "stream = CommonTokenStream(lexer)\n",
        "parser = arithmeticParser(stream)\n",
        "tree = parser.expression()\n",
        "\n",
        "lexer.reset()\n",
        "tokens = lexer.getAllTokens()\n",
        "\n",
        "print(\"Lexer\",lexer)\n",
        "print(\"Tokens\",tokens)\n",
        "print(\"Stream\",stream)\n",
        "print(\"Parser\",parser)\n",
        "print(\"Tree\",tree)\n"
      ]
    }
  ],
  "metadata": {
    "colab": {
      "provenance": [],
      "toc_visible": true,
      "authorship_tag": "ABX9TyOF3AocajUGRsoOhzW/VjtR",
      "include_colab_link": true
    },
    "kernelspec": {
      "display_name": "Python 3",
      "name": "python3"
    },
    "language_info": {
      "name": "python"
    }
  },
  "nbformat": 4,
  "nbformat_minor": 0
}