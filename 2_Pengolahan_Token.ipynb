{
  "cells": [
    {
      "cell_type": "markdown",
      "metadata": {
        "id": "view-in-github",
        "colab_type": "text"
      },
      "source": [
        "<a href=\"https://colab.research.google.com/github/hpputro/ml4sc/blob/main/2_Pengolahan_Token.ipynb\" target=\"_parent\"><img src=\"https://colab.research.google.com/assets/colab-badge.svg\" alt=\"Open In Colab\"/></a>"
      ]
    },
    {
      "cell_type": "markdown",
      "source": [
        "# Pengolahan Langsung File\n",
        "Memahami token dan mengolahnya langsung dari satu file `source code`"
      ],
      "metadata": {
        "id": "EVVUUsZ4cml_"
      }
    },
    {
      "cell_type": "markdown",
      "source": [
        "## Siapkan file yang akan diolah"
      ],
      "metadata": {
        "id": "8AHmRfa508Jn"
      }
    },
    {
      "cell_type": "code",
      "execution_count": null,
      "metadata": {
        "colab": {
          "base_uri": "https://localhost:8080/"
        },
        "id": "dGTMtpE4Rw8e",
        "outputId": "bcfcf8b8-7672-4eac-a6cf-70bd3907605d"
      },
      "outputs": [
        {
          "output_type": "stream",
          "name": "stdout",
          "text": [
            "123 + 45\n",
            "ab*cde\n",
            "\n"
          ]
        }
      ],
      "source": [
        "import sys\n",
        "from google.colab import drive\n",
        "drive.mount('/drive')\n",
        "\n",
        "input_stream = FileStream(\"/drive/My Drive/Colab Notebooks/SourceCode/test.txt\")\n",
        "print(input_stream)"
      ]
    },
    {
      "cell_type": "markdown",
      "source": [
        "## Siapkan Lexer"
      ],
      "metadata": {
        "id": "Su4yLst81FnX"
      }
    },
    {
      "cell_type": "code",
      "source": [
        "from antlr4 import *\n",
        "from arithmeticLexer import arithmeticLexer\n",
        "lexer = arithmeticLexer(input_stream)\n",
        "print(lexer)"
      ],
      "metadata": {
        "colab": {
          "base_uri": "https://localhost:8080/"
        },
        "id": "VRWflIIXxuSy",
        "outputId": "a39742a5-cb47-4c48-9044-77ae27415374"
      },
      "execution_count": null,
      "outputs": [
        {
          "output_type": "stream",
          "name": "stdout",
          "text": [
            "<arithmeticLexer.arithmeticLexer object at 0x7fb6ce234dc0>\n"
          ]
        }
      ]
    },
    {
      "cell_type": "markdown",
      "source": [
        "## Iterasi semua Token"
      ],
      "metadata": {
        "id": "e5ulWAUU18I_"
      }
    },
    {
      "cell_type": "code",
      "source": [
        "tokens = lexer.getAllTokens()\n",
        "for token in tokens:\n",
        "  print(token)"
      ],
      "metadata": {
        "colab": {
          "base_uri": "https://localhost:8080/"
        },
        "id": "PIi1QkuVx5jA",
        "outputId": "df6f6cc0-fa44-4acd-ea03-45160e960d3d"
      },
      "execution_count": null,
      "outputs": [
        {
          "output_type": "stream",
          "name": "stdout",
          "text": [
            "[@-1,0:2='123',<2>,1:0]\n",
            "[@-1,4:4='+',<5>,1:4]\n",
            "[@-1,6:7='45',<2>,1:6]\n",
            "[@-1,9:10='ab',<1>,2:0]\n",
            "[@-1,11:11='*',<7>,2:2]\n",
            "[@-1,12:14='cde',<1>,2:3]\n"
          ]
        }
      ]
    },
    {
      "cell_type": "markdown",
      "source": [
        "## Iterasi semua atribut Token"
      ],
      "metadata": {
        "id": "mxdLHROA2GMn"
      }
    },
    {
      "cell_type": "code",
      "source": [
        "tk0 = tokens[0]\n",
        "for attr in dir(tk0):\n",
        "    print(attr,\">>\",getattr(tk0,attr))\n"
      ],
      "metadata": {
        "colab": {
          "base_uri": "https://localhost:8080/"
        },
        "id": "zVwX-6zmyK-Y",
        "outputId": "b01049dd-e5d4-400b-aa27-cb0a8304448c"
      },
      "execution_count": null,
      "outputs": [
        {
          "output_type": "stream",
          "name": "stdout",
          "text": [
            "DEFAULT_CHANNEL >> 0\n",
            "EMPTY_SOURCE >> (None, None)\n",
            "EOF >> -1\n",
            "EPSILON >> -2\n",
            "HIDDEN_CHANNEL >> 1\n",
            "INVALID_TYPE >> 0\n",
            "MIN_USER_TOKEN_TYPE >> 1\n",
            "__class__ >> <class 'antlr4.Token.CommonToken'>\n",
            "__delattr__ >> <method-wrapper '__delattr__' of CommonToken object at 0x7fb6cd67f940>\n",
            "__dict__ >> {}\n",
            "__dir__ >> <built-in method __dir__ of CommonToken object at 0x7fb6cd67f940>\n",
            "__doc__ >> None\n",
            "__eq__ >> <method-wrapper '__eq__' of CommonToken object at 0x7fb6cd67f940>\n",
            "__format__ >> <built-in method __format__ of CommonToken object at 0x7fb6cd67f940>\n",
            "__ge__ >> <method-wrapper '__ge__' of CommonToken object at 0x7fb6cd67f940>\n",
            "__getattribute__ >> <method-wrapper '__getattribute__' of CommonToken object at 0x7fb6cd67f940>\n",
            "__gt__ >> <method-wrapper '__gt__' of CommonToken object at 0x7fb6cd67f940>\n",
            "__hash__ >> <method-wrapper '__hash__' of CommonToken object at 0x7fb6cd67f940>\n",
            "__init__ >> <bound method CommonToken.__init__ of <antlr4.Token.CommonToken object at 0x7fb6cd67f940>>\n",
            "__init_subclass__ >> <built-in method __init_subclass__ of type object at 0x3f32b50>\n",
            "__le__ >> <method-wrapper '__le__' of CommonToken object at 0x7fb6cd67f940>\n",
            "__lt__ >> <method-wrapper '__lt__' of CommonToken object at 0x7fb6cd67f940>\n",
            "__module__ >> antlr4.Token\n",
            "__ne__ >> <method-wrapper '__ne__' of CommonToken object at 0x7fb6cd67f940>\n",
            "__new__ >> <built-in method __new__ of type object at 0xae0fc0>\n",
            "__reduce__ >> <built-in method __reduce__ of CommonToken object at 0x7fb6cd67f940>\n",
            "__reduce_ex__ >> <built-in method __reduce_ex__ of CommonToken object at 0x7fb6cd67f940>\n",
            "__repr__ >> <method-wrapper '__repr__' of CommonToken object at 0x7fb6cd67f940>\n",
            "__setattr__ >> <method-wrapper '__setattr__' of CommonToken object at 0x7fb6cd67f940>\n",
            "__sizeof__ >> <built-in method __sizeof__ of CommonToken object at 0x7fb6cd67f940>\n",
            "__slots__ >> ('source', 'type', 'channel', 'start', 'stop', 'tokenIndex', 'line', 'column', '_text')\n",
            "__str__ >> <bound method CommonToken.__str__ of <antlr4.Token.CommonToken object at 0x7fb6cd67f940>>\n",
            "__subclasshook__ >> <built-in method __subclasshook__ of type object at 0x3f32b50>\n",
            "__weakref__ >> None\n",
            "_text >> None\n",
            "channel >> 0\n",
            "clone >> <bound method CommonToken.clone of <antlr4.Token.CommonToken object at 0x7fb6cd67f940>>\n",
            "column >> 0\n",
            "getInputStream >> <bound method Token.getInputStream of <antlr4.Token.CommonToken object at 0x7fb6cd67f940>>\n",
            "getTokenSource >> <bound method Token.getTokenSource of <antlr4.Token.CommonToken object at 0x7fb6cd67f940>>\n",
            "line >> 1\n",
            "source >> (<arithmeticLexer.arithmeticLexer object at 0x7fb6ce234dc0>, <antlr4.FileStream.FileStream object at 0x7fb6cd66dbd0>)\n",
            "start >> 0\n",
            "stop >> 2\n",
            "text >> 123\n",
            "tokenIndex >> -1\n",
            "type >> 2\n"
          ]
        }
      ]
    },
    {
      "cell_type": "markdown",
      "source": [
        "## Ambil teks Token & Agregasi"
      ],
      "metadata": {
        "id": "Cisvap7M2Q6H"
      }
    },
    {
      "cell_type": "code",
      "source": [
        "file = []\n",
        "line = []\n",
        "\n",
        "prevToken = None\n",
        "for token in tokens:\n",
        "   if prevToken!=None and token.line!=prevToken.line:\n",
        "      file.append(line)\n",
        "      line = []\n",
        "   line.append(token.text)\n",
        "   prevToken = token\n",
        "file.append(line)\n",
        "\n",
        "print(file)"
      ],
      "metadata": {
        "colab": {
          "base_uri": "https://localhost:8080/"
        },
        "id": "k3JWZ9xTzM1i",
        "outputId": "c2d97b0a-cd04-41ed-c1bc-9e1d7c2cdcff"
      },
      "execution_count": null,
      "outputs": [
        {
          "output_type": "stream",
          "name": "stdout",
          "text": [
            "[['123', '+', '45'], ['ab', '*', 'cde']]\n"
          ]
        }
      ]
    },
    {
      "cell_type": "markdown",
      "source": [
        "# Pengolahan 1 Baris / String\n",
        "Memahami FileStream karena pengolahan Lexer itu langsung dari file. Jadi kalau hanya string atau satu baris kode harus ditulis dulu di file baru dibaca dengan FileStream milik ANTLR."
      ],
      "metadata": {
        "id": "3uFek2cfKFZ5"
      }
    },
    {
      "cell_type": "code",
      "source": [
        "f = open(\"/drive/My Drive/Colab Notebooks/SourceCode/test3.txt\", \"w\")\n",
        "f.write(\"1 + 2 * 3\")\n",
        "f.close()\n",
        "\n",
        "from antlr4 import *\n",
        "from arithmeticLexer import arithmeticLexer\n",
        "input_stream = FileStream(\"/drive/My Drive/Colab Notebooks/SourceCode/test3.txt\")\n",
        "lexer = arithmeticLexer(input_stream)\n",
        "print(lexer)"
      ],
      "metadata": {
        "id": "hy3al32QKNmo"
      },
      "execution_count": null,
      "outputs": []
    }
  ],
  "metadata": {
    "colab": {
      "provenance": [],
      "mount_file_id": "1_QhsMhNUUDXrkiH1aS91JeYVxAtjsOX3",
      "authorship_tag": "ABX9TyNF+F2bfw+tQtSFpByXo4iz",
      "include_colab_link": true
    },
    "kernelspec": {
      "display_name": "Python 3",
      "name": "python3"
    },
    "language_info": {
      "name": "python"
    }
  },
  "nbformat": 4,
  "nbformat_minor": 0
}